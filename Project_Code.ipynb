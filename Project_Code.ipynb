{
  "nbformat": 4,
  "nbformat_minor": 0,
  "metadata": {
    "colab": {
      "name": "Project Code.ipynb",
      "provenance": [],
      "collapsed_sections": [
        "_ka8hR3IubBc",
        "72kWNvU3A4BW",
        "hwX4SE2pb1sT",
        "TavdQ0TAu6-n",
        "KvtQmSwVpgTc",
        "4ocFmkjGpqCR",
        "hBOH1kE-p_uu",
        "3nsKOE29rqqe",
        "0K-TuM-8l5IP"
      ],
      "include_colab_link": true
    },
    "kernelspec": {
      "name": "python3",
      "display_name": "Python 3"
    },
    "language_info": {
      "name": "python"
    }
  },
  "cells": [
    {
      "cell_type": "markdown",
      "metadata": {
        "id": "view-in-github",
        "colab_type": "text"
      },
      "source": [
        "<a href=\"https://colab.research.google.com/github/jmcshane12/qac386-project/blob/main/Project_Code.ipynb\" target=\"_parent\"><img src=\"https://colab.research.google.com/assets/colab-badge.svg\" alt=\"Open In Colab\"/></a>"
      ]
    },
    {
      "cell_type": "markdown",
      "metadata": {
        "id": "ED1cha_FAZm8"
      },
      "source": [
        "##**Text Classification using Facebook Political Ads**\n",
        "\n",
        "Mohammed Alneyadi, Jimmy McShane\n",
        "\n",
        "Course: QAC386\n",
        "\n",
        "05/21/2021"
      ]
    },
    {
      "cell_type": "code",
      "metadata": {
        "colab": {
          "base_uri": "https://localhost:8080/"
        },
        "id": "M9xJcbfCxXBb",
        "outputId": "c2ce5f6e-bd54-4a59-9d6f-0f4f588e7b04"
      },
      "source": [
        "# Mount Drive\n",
        "from google.colab import drive\n",
        "drive.mount('/content/drive')"
      ],
      "execution_count": 17,
      "outputs": [
        {
          "output_type": "stream",
          "text": [
            "Drive already mounted at /content/drive; to attempt to forcibly remount, call drive.mount(\"/content/drive\", force_remount=True).\n"
          ],
          "name": "stdout"
        }
      ]
    },
    {
      "cell_type": "markdown",
      "metadata": {
        "id": "_ka8hR3IubBc"
      },
      "source": [
        "### 1. Import/Install libraries"
      ]
    },
    {
      "cell_type": "code",
      "metadata": {
        "id": "EBBdIo5U6wLl"
      },
      "source": [
        "import os\n",
        "import pandas as pd\n",
        "import numpy as np\n",
        "import matplotlib.pyplot as plt\n",
        "import re\n",
        "from gensim import corpora\n",
        "import gensim.models\n",
        "from gensim.models import Word2Vec\n",
        "import nltk\n",
        "from nltk.corpus import stopwords\n",
        "from nltk.probability import FreqDist\n",
        "from nltk.tokenize import word_tokenize\n",
        "from nltk.stem import WordNetLemmatizer\n",
        "from nltk.corpus import wordnet\n",
        "from sklearn.model_selection import train_test_split\n",
        "from sklearn import model_selection, preprocessing, linear_model, metrics\n",
        "from sklearn.feature_extraction.text import TfidfVectorizer, CountVectorizer\n",
        "from sklearn import decomposition, ensemble\n",
        "import seaborn as sn\n",
        "import pickle\n",
        "from sklearn.model_selection import train_test_split\n",
        "from sklearn import metrics\n",
        "from sklearn.metrics import classification_report, f1_score, accuracy_score, confusion_matrix\n",
        "from sklearn.linear_model import SGDClassifier\n",
        "from sklearn.ensemble import RandomForestClassifier\n",
        "import xgboost"
      ],
      "execution_count": 18,
      "outputs": []
    },
    {
      "cell_type": "markdown",
      "metadata": {
        "id": "679-4MpWARa9"
      },
      "source": [
        "### 2. Data Preprocessing"
      ]
    },
    {
      "cell_type": "code",
      "metadata": {
        "id": "H4Uq6EVZyKyv"
      },
      "source": [
        "# import data\n",
        "fb_media_text = pd.read_csv(\"/content/drive/MyDrive/Facebook Ads Project/fb_ads_media_text.csv\")\n",
        "fb_data_text = pd.read_csv(\"/content/drive/MyDrive/Facebook Ads Project/fb_ads_data.csv\")\n",
        "fb_detail = pd.read_excel(\"/content/drive/MyDrive/Facebook Ads Project/hand_coded_fb_ads_from_aug_2020.xlsx\")\n",
        "\n",
        "fb_data_text = fb_data_text.rename({\"ad_creative_body\": \"text\"}, axis=1)\n",
        "fb_data_text = fb_data_text[[\"ad_id\",\"text\"]] \n",
        "fb_media_text = fb_media_text[[\"ad_id\",\"text\"]]"
      ],
      "execution_count": 19,
      "outputs": []
    },
    {
      "cell_type": "code",
      "metadata": {
        "colab": {
          "base_uri": "https://localhost:8080/"
        },
        "id": "3xDl5_uraqzr",
        "outputId": "7dc08595-889d-46cf-f566-d7ab158e7eee"
      },
      "source": [
        "# check if there are duplicated columns in both datasets based on ad_id\n",
        "print(len(fb_media_text['ad_id'].unique()) < len(fb_media_text.index))\n",
        "print(len(fb_data_text['ad_id'].unique()) < len(fb_data_text.index))"
      ],
      "execution_count": 20,
      "outputs": [
        {
          "output_type": "stream",
          "text": [
            "True\n",
            "False\n"
          ],
          "name": "stdout"
        }
      ]
    },
    {
      "cell_type": "code",
      "metadata": {
        "colab": {
          "base_uri": "https://localhost:8080/"
        },
        "id": "98MbC3JLbkSu",
        "outputId": "7c649f81-6754-4466-bb71-ad99ae4c4061"
      },
      "source": [
        "# drop duplicated column in fb_media_text\n",
        "fb_media_text.drop(fb_media_text.index[[1,]], inplace=True)\n",
        "print(len(fb_media_text['ad_id'].unique()) < len(fb_media_text.index))"
      ],
      "execution_count": 21,
      "outputs": [
        {
          "output_type": "stream",
          "text": [
            "False\n"
          ],
          "name": "stdout"
        }
      ]
    },
    {
      "cell_type": "code",
      "metadata": {
        "id": "VO30rGdVIjUd"
      },
      "source": [
        "# change missing values to empty strings\n",
        "fb_media_text.text = fb_media_text.text.fillna(\"\")\n",
        "fb_data_text.text = fb_data_text.text.fillna(\"\")"
      ],
      "execution_count": 22,
      "outputs": []
    },
    {
      "cell_type": "code",
      "metadata": {
        "colab": {
          "base_uri": "https://localhost:8080/"
        },
        "id": "spnXDlg8Td96",
        "outputId": "d8edc62f-d12c-49c9-efd2-8822578283cb"
      },
      "source": [
        "# convert the text column to strings only in the fb_data_text\n",
        "fb_data_text[\"text\"] = fb_data_text[\"text\"].str[2:]\n",
        "fb_data_text[\"text\"] = fb_data_text[\"text\"].str[:-2]\n",
        "fb_data_text[\"text\"]"
      ],
      "execution_count": 23,
      "outputs": [
        {
          "output_type": "execute_result",
          "data": {
            "text/plain": [
              "0       Beth Van Duyne supports Trump's tax cuts for t...\n",
              "1       As mayor, Alex Morse has a terrible record wit...\n",
              "2       Steve Daines stands with drug and insurance co...\n",
              "3       On Friday, October 9, 16, and 23, Hampton Univ...\n",
              "4       Congressman David Schweikert admitted to takin...\n",
              "                              ...                        \n",
              "3329    Republicans in Minnesota! Are you prepared to ...\n",
              "3330    This election is paramount. We need to WIN!\\\\n...\n",
              "3331    Protect our America First values, and vote Rep...\n",
              "3332    Are you registered to vote in November? Add yo...\n",
              "3333    Don't miss your chance to vote Republican this...\n",
              "Name: text, Length: 3334, dtype: object"
            ]
          },
          "metadata": {},
          "execution_count": 23
        }
      ]
    },
    {
      "cell_type": "code",
      "metadata": {
        "colab": {
          "base_uri": "https://localhost:8080/",
          "height": 419
        },
        "id": "v9Z7K1WkIYb5",
        "outputId": "c4611a81-45e9-4877-cddd-f89efb8e1b54"
      },
      "source": [
        "# merge fb_media_text with fb_data_text by ad_id column\n",
        "fb_text = fb_data_text.merge(fb_media_text, how='inner', on='ad_id')\n",
        "fb_text[\"text\"] = fb_text[\"text_x\"] + \" \" + fb_text[\"text_y\"]\n",
        "fb_text = fb_text[[\"ad_id\",\"text\"]] \n",
        "fb_text"
      ],
      "execution_count": 24,
      "outputs": [
        {
          "output_type": "execute_result",
          "data": {
            "text/html": [
              "<div>\n",
              "<style scoped>\n",
              "    .dataframe tbody tr th:only-of-type {\n",
              "        vertical-align: middle;\n",
              "    }\n",
              "\n",
              "    .dataframe tbody tr th {\n",
              "        vertical-align: top;\n",
              "    }\n",
              "\n",
              "    .dataframe thead th {\n",
              "        text-align: right;\n",
              "    }\n",
              "</style>\n",
              "<table border=\"1\" class=\"dataframe\">\n",
              "  <thead>\n",
              "    <tr style=\"text-align: right;\">\n",
              "      <th></th>\n",
              "      <th>ad_id</th>\n",
              "      <th>text</th>\n",
              "    </tr>\n",
              "  </thead>\n",
              "  <tbody>\n",
              "    <tr>\n",
              "      <th>0</th>\n",
              "      <td>1847966875343740</td>\n",
              "      <td>Beth Van Duyne supports Trump's tax cuts for t...</td>\n",
              "    </tr>\n",
              "    <tr>\n",
              "      <th>1</th>\n",
              "      <td>679866202614585</td>\n",
              "      <td>As mayor, Alex Morse has a terrible record wit...</td>\n",
              "    </tr>\n",
              "    <tr>\n",
              "      <th>2</th>\n",
              "      <td>1072957549791360</td>\n",
              "      <td>Steve Daines stands with drug and insurance co...</td>\n",
              "    </tr>\n",
              "    <tr>\n",
              "      <th>3</th>\n",
              "      <td>338213330576140</td>\n",
              "      <td>On Friday, October 9, 16, and 23, Hampton Univ...</td>\n",
              "    </tr>\n",
              "    <tr>\n",
              "      <th>4</th>\n",
              "      <td>1253584924993205</td>\n",
              "      <td>Congressman David Schweikert admitted to takin...</td>\n",
              "    </tr>\n",
              "    <tr>\n",
              "      <th>...</th>\n",
              "      <td>...</td>\n",
              "      <td>...</td>\n",
              "    </tr>\n",
              "    <tr>\n",
              "      <th>3320</th>\n",
              "      <td>1188910944825976</td>\n",
              "      <td>Republicans in Minnesota! Are you prepared to ...</td>\n",
              "    </tr>\n",
              "    <tr>\n",
              "      <th>3321</th>\n",
              "      <td>1000044447131644</td>\n",
              "      <td>This election is paramount. We need to WIN!\\\\n...</td>\n",
              "    </tr>\n",
              "    <tr>\n",
              "      <th>3322</th>\n",
              "      <td>1012062309213911</td>\n",
              "      <td>Protect our America First values, and vote Rep...</td>\n",
              "    </tr>\n",
              "    <tr>\n",
              "      <th>3323</th>\n",
              "      <td>1053125268450807</td>\n",
              "      <td>Are you registered to vote in November? Add yo...</td>\n",
              "    </tr>\n",
              "    <tr>\n",
              "      <th>3324</th>\n",
              "      <td>1001317153650654</td>\n",
              "      <td>Don't miss your chance to vote Republican this...</td>\n",
              "    </tr>\n",
              "  </tbody>\n",
              "</table>\n",
              "<p>3325 rows × 2 columns</p>\n",
              "</div>"
            ],
            "text/plain": [
              "                 ad_id                                               text\n",
              "0     1847966875343740  Beth Van Duyne supports Trump's tax cuts for t...\n",
              "1      679866202614585  As mayor, Alex Morse has a terrible record wit...\n",
              "2     1072957549791360  Steve Daines stands with drug and insurance co...\n",
              "3      338213330576140  On Friday, October 9, 16, and 23, Hampton Univ...\n",
              "4     1253584924993205  Congressman David Schweikert admitted to takin...\n",
              "...                ...                                                ...\n",
              "3320  1188910944825976  Republicans in Minnesota! Are you prepared to ...\n",
              "3321  1000044447131644  This election is paramount. We need to WIN!\\\\n...\n",
              "3322  1012062309213911  Protect our America First values, and vote Rep...\n",
              "3323  1053125268450807  Are you registered to vote in November? Add yo...\n",
              "3324  1001317153650654  Don't miss your chance to vote Republican this...\n",
              "\n",
              "[3325 rows x 2 columns]"
            ]
          },
          "metadata": {},
          "execution_count": 24
        }
      ]
    },
    {
      "cell_type": "code",
      "metadata": {
        "colab": {
          "base_uri": "https://localhost:8080/"
        },
        "id": "5XlKs85ZtJy_",
        "outputId": "50685216-232d-4b3a-a8ff-c4723ed22bb2"
      },
      "source": [
        "# delete missing values in AD_TONE column\n",
        "fb_detail.dropna(subset = [\"AD_TONE\"], inplace=True)\n",
        "fb_detail.AD_TONE.unique()"
      ],
      "execution_count": 25,
      "outputs": [
        {
          "output_type": "execute_result",
          "data": {
            "text/plain": [
              "array(['Contrast', 'Promote', 'Attack'], dtype=object)"
            ]
          },
          "metadata": {},
          "execution_count": 25
        }
      ]
    },
    {
      "cell_type": "code",
      "metadata": {
        "colab": {
          "base_uri": "https://localhost:8080/",
          "height": 797
        },
        "id": "tKgr5saI7hlr",
        "outputId": "1fa9cffb-cdd7-4b2f-9b4e-91cf23b78ce9"
      },
      "source": [
        "# merge fb_text and fb_detail datasets\n",
        "fb = fb_text.merge(fb_detail, how='inner', on='ad_id')\n",
        "fb.head()"
      ],
      "execution_count": 26,
      "outputs": [
        {
          "output_type": "execute_result",
          "data": {
            "text/html": [
              "<div>\n",
              "<style scoped>\n",
              "    .dataframe tbody tr th:only-of-type {\n",
              "        vertical-align: middle;\n",
              "    }\n",
              "\n",
              "    .dataframe tbody tr th {\n",
              "        vertical-align: top;\n",
              "    }\n",
              "\n",
              "    .dataframe thead th {\n",
              "        text-align: right;\n",
              "    }\n",
              "</style>\n",
              "<table border=\"1\" class=\"dataframe\">\n",
              "  <thead>\n",
              "    <tr style=\"text-align: right;\">\n",
              "      <th></th>\n",
              "      <th>ad_id</th>\n",
              "      <th>text</th>\n",
              "      <th>creative</th>\n",
              "      <th>coder</th>\n",
              "      <th>NOCODE</th>\n",
              "      <th>NOCODE_TXT</th>\n",
              "      <th>TEXT</th>\n",
              "      <th>VIDEO</th>\n",
              "      <th>IMAGE</th>\n",
              "      <th>LINK</th>\n",
              "      <th>ADREMOVED</th>\n",
              "      <th>NODISCLAIMER</th>\n",
              "      <th>VERSIONS</th>\n",
              "      <th>MULTIVID</th>\n",
              "      <th>PERSUADE</th>\n",
              "      <th>DONATE</th>\n",
              "      <th>INFO</th>\n",
              "      <th>LEGISLATOR</th>\n",
              "      <th>PURCHASE</th>\n",
              "      <th>OTHERGOAL</th>\n",
              "      <th>ISSUE_TYPE2</th>\n",
              "      <th>ISSUE_TYPE3</th>\n",
              "      <th>MNT_cand1</th>\n",
              "      <th>PIC_cand1</th>\n",
              "      <th>MNT_cand2</th>\n",
              "      <th>PIC_cand2</th>\n",
              "      <th>MNT_cand3</th>\n",
              "      <th>PIC_cand3</th>\n",
              "      <th>MNT_cand4</th>\n",
              "      <th>PIC_cand4</th>\n",
              "      <th>MNT_cand5</th>\n",
              "      <th>PIC_cand5</th>\n",
              "      <th>MNT_cand6</th>\n",
              "      <th>PIC_cand6</th>\n",
              "      <th>MNT_cand7</th>\n",
              "      <th>PIC_cand7</th>\n",
              "      <th>MNT_cand8</th>\n",
              "      <th>PIC_cand8</th>\n",
              "      <th>MNT_cand9</th>\n",
              "      <th>PIC_cand9</th>\n",
              "      <th>...</th>\n",
              "      <th>ISSUE101</th>\n",
              "      <th>ISSUE38</th>\n",
              "      <th>ISSUE39</th>\n",
              "      <th>ISSUE34</th>\n",
              "      <th>ISSUE35</th>\n",
              "      <th>ISSUE36</th>\n",
              "      <th>ISSUE107</th>\n",
              "      <th>ISSUE93</th>\n",
              "      <th>ISSUE111</th>\n",
              "      <th>ISSUE94</th>\n",
              "      <th>ISSUE96</th>\n",
              "      <th>ISSUE98</th>\n",
              "      <th>ISSUE99</th>\n",
              "      <th>ISSUE103</th>\n",
              "      <th>ISSUE104</th>\n",
              "      <th>ISSUE118</th>\n",
              "      <th>ISSUEOTH</th>\n",
              "      <th>ISSUEOTH_TXT</th>\n",
              "      <th>MNT_senpres2</th>\n",
              "      <th>PIC_senpres2</th>\n",
              "      <th>SENPRES_TXT2</th>\n",
              "      <th>RECODE</th>\n",
              "      <th>RECODE_TXT</th>\n",
              "      <th>PROB_VID_NOCODE</th>\n",
              "      <th>PROB_VID_PARTIAL</th>\n",
              "      <th>PROB_DONTUSE</th>\n",
              "      <th>PROB_SPANISH</th>\n",
              "      <th>PROB_OTH</th>\n",
              "      <th>PROB_QUEST</th>\n",
              "      <th>PROB_OTH_TXT</th>\n",
              "      <th>PROB_QUEST_TXT</th>\n",
              "      <th>NOMINATE</th>\n",
              "      <th>NOMINATE_TXT</th>\n",
              "      <th>pagename</th>\n",
              "      <th>adid</th>\n",
              "      <th>pageid</th>\n",
              "      <th>MNT_cand11</th>\n",
              "      <th>PIC_cand11</th>\n",
              "      <th>MNT_cand12</th>\n",
              "      <th>PIC_cand12</th>\n",
              "    </tr>\n",
              "  </thead>\n",
              "  <tbody>\n",
              "    <tr>\n",
              "      <th>0</th>\n",
              "      <td>1072957549791360</td>\n",
              "      <td>Steve Daines stands with drug and insurance co...</td>\n",
              "      <td>id=1072957549791360</td>\n",
              "      <td>oramseur@wesleyan.edu</td>\n",
              "      <td>NaN</td>\n",
              "      <td>NaN</td>\n",
              "      <td>Text</td>\n",
              "      <td>Video(s)</td>\n",
              "      <td>NaN</td>\n",
              "      <td>Link(s)</td>\n",
              "      <td>NaN</td>\n",
              "      <td>NaN</td>\n",
              "      <td>No</td>\n",
              "      <td>No</td>\n",
              "      <td>Primary goal</td>\n",
              "      <td>NaN</td>\n",
              "      <td>Goal</td>\n",
              "      <td>NaN</td>\n",
              "      <td>NaN</td>\n",
              "      <td>NaN</td>\n",
              "      <td>NaN</td>\n",
              "      <td>NaN</td>\n",
              "      <td>NaN</td>\n",
              "      <td>NaN</td>\n",
              "      <td>NaN</td>\n",
              "      <td>NaN</td>\n",
              "      <td>NaN</td>\n",
              "      <td>NaN</td>\n",
              "      <td>NaN</td>\n",
              "      <td>NaN</td>\n",
              "      <td>NaN</td>\n",
              "      <td>NaN</td>\n",
              "      <td>NaN</td>\n",
              "      <td>NaN</td>\n",
              "      <td>NaN</td>\n",
              "      <td>NaN</td>\n",
              "      <td>NaN</td>\n",
              "      <td>NaN</td>\n",
              "      <td>NaN</td>\n",
              "      <td>NaN</td>\n",
              "      <td>...</td>\n",
              "      <td>NaN</td>\n",
              "      <td>NaN</td>\n",
              "      <td>NaN</td>\n",
              "      <td>NaN</td>\n",
              "      <td>NaN</td>\n",
              "      <td>NaN</td>\n",
              "      <td>NaN</td>\n",
              "      <td>NaN</td>\n",
              "      <td>NaN</td>\n",
              "      <td>NaN</td>\n",
              "      <td>NaN</td>\n",
              "      <td>NaN</td>\n",
              "      <td>NaN</td>\n",
              "      <td>NaN</td>\n",
              "      <td>NaN</td>\n",
              "      <td>NaN</td>\n",
              "      <td>NaN</td>\n",
              "      <td>NaN</td>\n",
              "      <td>NaN</td>\n",
              "      <td>NaN</td>\n",
              "      <td>NaN</td>\n",
              "      <td>NaN</td>\n",
              "      <td>NaN</td>\n",
              "      <td>NaN</td>\n",
              "      <td>NaN</td>\n",
              "      <td>NaN</td>\n",
              "      <td>NaN</td>\n",
              "      <td>NaN</td>\n",
              "      <td>NaN</td>\n",
              "      <td>NaN</td>\n",
              "      <td>NaN</td>\n",
              "      <td>NaN</td>\n",
              "      <td>NaN</td>\n",
              "      <td>Montana True</td>\n",
              "      <td>id=1072957549791360</td>\n",
              "      <td>id=748857881986418</td>\n",
              "      <td>NaN</td>\n",
              "      <td>NaN</td>\n",
              "      <td>NaN</td>\n",
              "      <td>NaN</td>\n",
              "    </tr>\n",
              "    <tr>\n",
              "      <th>1</th>\n",
              "      <td>260636941890960</td>\n",
              "      <td>As farmers, we expect tough times. We always k...</td>\n",
              "      <td>id=260636941890960</td>\n",
              "      <td>tzarobell@wesleyan.edu</td>\n",
              "      <td>NaN</td>\n",
              "      <td>NaN</td>\n",
              "      <td>Text</td>\n",
              "      <td>Video(s)</td>\n",
              "      <td>NaN</td>\n",
              "      <td>Link(s)</td>\n",
              "      <td>NaN</td>\n",
              "      <td>NaN</td>\n",
              "      <td>No</td>\n",
              "      <td>No</td>\n",
              "      <td>Primary goal</td>\n",
              "      <td>NaN</td>\n",
              "      <td>Goal</td>\n",
              "      <td>NaN</td>\n",
              "      <td>NaN</td>\n",
              "      <td>NaN</td>\n",
              "      <td>NaN</td>\n",
              "      <td>NaN</td>\n",
              "      <td>GREENFIELD THERESA</td>\n",
              "      <td>GREENFIELD THERESA</td>\n",
              "      <td>NaN</td>\n",
              "      <td>NaN</td>\n",
              "      <td>NaN</td>\n",
              "      <td>NaN</td>\n",
              "      <td>NaN</td>\n",
              "      <td>NaN</td>\n",
              "      <td>NaN</td>\n",
              "      <td>NaN</td>\n",
              "      <td>NaN</td>\n",
              "      <td>NaN</td>\n",
              "      <td>NaN</td>\n",
              "      <td>NaN</td>\n",
              "      <td>NaN</td>\n",
              "      <td>NaN</td>\n",
              "      <td>NaN</td>\n",
              "      <td>NaN</td>\n",
              "      <td>...</td>\n",
              "      <td>NaN</td>\n",
              "      <td>NaN</td>\n",
              "      <td>NaN</td>\n",
              "      <td>NaN</td>\n",
              "      <td>NaN</td>\n",
              "      <td>NaN</td>\n",
              "      <td>NaN</td>\n",
              "      <td>NaN</td>\n",
              "      <td>NaN</td>\n",
              "      <td>NaN</td>\n",
              "      <td>NaN</td>\n",
              "      <td>Government Regulations</td>\n",
              "      <td>NaN</td>\n",
              "      <td>NaN</td>\n",
              "      <td>NaN</td>\n",
              "      <td>NaN</td>\n",
              "      <td>NaN</td>\n",
              "      <td>NaN</td>\n",
              "      <td>NaN</td>\n",
              "      <td>NaN</td>\n",
              "      <td>NaN</td>\n",
              "      <td>NaN</td>\n",
              "      <td>NaN</td>\n",
              "      <td>NaN</td>\n",
              "      <td>NaN</td>\n",
              "      <td>NaN</td>\n",
              "      <td>NaN</td>\n",
              "      <td>NaN</td>\n",
              "      <td>NaN</td>\n",
              "      <td>NaN</td>\n",
              "      <td>NaN</td>\n",
              "      <td>NaN</td>\n",
              "      <td>NaN</td>\n",
              "      <td>NaN</td>\n",
              "      <td>id=260636941890960</td>\n",
              "      <td>id=101434364933742</td>\n",
              "      <td>NaN</td>\n",
              "      <td>NaN</td>\n",
              "      <td>NaN</td>\n",
              "      <td>NaN</td>\n",
              "    </tr>\n",
              "    <tr>\n",
              "      <th>2</th>\n",
              "      <td>3351122824910190</td>\n",
              "      <td>Will you make a donation to help us get this a...</td>\n",
              "      <td>id=3351122824910190</td>\n",
              "      <td>oramseur@wesleyan.edu</td>\n",
              "      <td>NaN</td>\n",
              "      <td>NaN</td>\n",
              "      <td>Text</td>\n",
              "      <td>Video(s)</td>\n",
              "      <td>NaN</td>\n",
              "      <td>Link(s)</td>\n",
              "      <td>NaN</td>\n",
              "      <td>NaN</td>\n",
              "      <td>No</td>\n",
              "      <td>No</td>\n",
              "      <td>Primary goal</td>\n",
              "      <td>Goal</td>\n",
              "      <td>NaN</td>\n",
              "      <td>NaN</td>\n",
              "      <td>NaN</td>\n",
              "      <td>NaN</td>\n",
              "      <td>NaN</td>\n",
              "      <td>NaN</td>\n",
              "      <td>Donald Trump</td>\n",
              "      <td>Donald Trump</td>\n",
              "      <td>NaN</td>\n",
              "      <td>NaN</td>\n",
              "      <td>NaN</td>\n",
              "      <td>NaN</td>\n",
              "      <td>NaN</td>\n",
              "      <td>NaN</td>\n",
              "      <td>NaN</td>\n",
              "      <td>NaN</td>\n",
              "      <td>NaN</td>\n",
              "      <td>NaN</td>\n",
              "      <td>NaN</td>\n",
              "      <td>NaN</td>\n",
              "      <td>NaN</td>\n",
              "      <td>NaN</td>\n",
              "      <td>NaN</td>\n",
              "      <td>NaN</td>\n",
              "      <td>...</td>\n",
              "      <td>NaN</td>\n",
              "      <td>NaN</td>\n",
              "      <td>NaN</td>\n",
              "      <td>NaN</td>\n",
              "      <td>NaN</td>\n",
              "      <td>NaN</td>\n",
              "      <td>NaN</td>\n",
              "      <td>NaN</td>\n",
              "      <td>NaN</td>\n",
              "      <td>NaN</td>\n",
              "      <td>NaN</td>\n",
              "      <td>NaN</td>\n",
              "      <td>NaN</td>\n",
              "      <td>Emergency Preparedness/Response</td>\n",
              "      <td>NaN</td>\n",
              "      <td>NaN</td>\n",
              "      <td>NaN</td>\n",
              "      <td>NaN</td>\n",
              "      <td>NaN</td>\n",
              "      <td>NaN</td>\n",
              "      <td>NaN</td>\n",
              "      <td>NaN</td>\n",
              "      <td>NaN</td>\n",
              "      <td>NaN</td>\n",
              "      <td>NaN</td>\n",
              "      <td>NaN</td>\n",
              "      <td>NaN</td>\n",
              "      <td>NaN</td>\n",
              "      <td>NaN</td>\n",
              "      <td>NaN</td>\n",
              "      <td>NaN</td>\n",
              "      <td>NaN</td>\n",
              "      <td>NaN</td>\n",
              "      <td>Rebellion PAC</td>\n",
              "      <td>id=3351122824910190</td>\n",
              "      <td>id=589178731746528</td>\n",
              "      <td>NaN</td>\n",
              "      <td>NaN</td>\n",
              "      <td>NaN</td>\n",
              "      <td>NaN</td>\n",
              "    </tr>\n",
              "    <tr>\n",
              "      <th>3</th>\n",
              "      <td>124221972185005</td>\n",
              "      <td>Trump brags about all the amazing jobs he\\\\u20...</td>\n",
              "      <td>id=124221972185005</td>\n",
              "      <td>achampeau@wesleyan.edu</td>\n",
              "      <td>NaN</td>\n",
              "      <td>NaN</td>\n",
              "      <td>Text</td>\n",
              "      <td>NaN</td>\n",
              "      <td>Still images(s)</td>\n",
              "      <td>Link(s)</td>\n",
              "      <td>NaN</td>\n",
              "      <td>NaN</td>\n",
              "      <td>No</td>\n",
              "      <td>NaN</td>\n",
              "      <td>Primary goal</td>\n",
              "      <td>NaN</td>\n",
              "      <td>Goal</td>\n",
              "      <td>NaN</td>\n",
              "      <td>NaN</td>\n",
              "      <td>NaN</td>\n",
              "      <td>NaN</td>\n",
              "      <td>NaN</td>\n",
              "      <td>Donald Trump</td>\n",
              "      <td>NaN</td>\n",
              "      <td>NaN</td>\n",
              "      <td>NaN</td>\n",
              "      <td>NaN</td>\n",
              "      <td>NaN</td>\n",
              "      <td>NaN</td>\n",
              "      <td>NaN</td>\n",
              "      <td>NaN</td>\n",
              "      <td>NaN</td>\n",
              "      <td>NaN</td>\n",
              "      <td>NaN</td>\n",
              "      <td>NaN</td>\n",
              "      <td>NaN</td>\n",
              "      <td>NaN</td>\n",
              "      <td>NaN</td>\n",
              "      <td>NaN</td>\n",
              "      <td>NaN</td>\n",
              "      <td>...</td>\n",
              "      <td>NaN</td>\n",
              "      <td>NaN</td>\n",
              "      <td>NaN</td>\n",
              "      <td>NaN</td>\n",
              "      <td>NaN</td>\n",
              "      <td>NaN</td>\n",
              "      <td>NaN</td>\n",
              "      <td>NaN</td>\n",
              "      <td>NaN</td>\n",
              "      <td>NaN</td>\n",
              "      <td>NaN</td>\n",
              "      <td>NaN</td>\n",
              "      <td>NaN</td>\n",
              "      <td>NaN</td>\n",
              "      <td>NaN</td>\n",
              "      <td>NaN</td>\n",
              "      <td>NaN</td>\n",
              "      <td>NaN</td>\n",
              "      <td>NaN</td>\n",
              "      <td>NaN</td>\n",
              "      <td>NaN</td>\n",
              "      <td>NaN</td>\n",
              "      <td>NaN</td>\n",
              "      <td>NaN</td>\n",
              "      <td>NaN</td>\n",
              "      <td>NaN</td>\n",
              "      <td>NaN</td>\n",
              "      <td>NaN</td>\n",
              "      <td>NaN</td>\n",
              "      <td>NaN</td>\n",
              "      <td>NaN</td>\n",
              "      <td>NaN</td>\n",
              "      <td>NaN</td>\n",
              "      <td>Let&amp;#39;s Be Honest</td>\n",
              "      <td>id=124221972185005</td>\n",
              "      <td>id=425408274980132</td>\n",
              "      <td>NaN</td>\n",
              "      <td>NaN</td>\n",
              "      <td>NaN</td>\n",
              "      <td>NaN</td>\n",
              "    </tr>\n",
              "    <tr>\n",
              "      <th>4</th>\n",
              "      <td>1422199234652050</td>\n",
              "      <td>Donald Trump and Thom Tillis have allowed the ...</td>\n",
              "      <td>id=1422199234652050</td>\n",
              "      <td>achampeau@wesleyan.edu</td>\n",
              "      <td>NaN</td>\n",
              "      <td>NaN</td>\n",
              "      <td>Text</td>\n",
              "      <td>Video(s)</td>\n",
              "      <td>NaN</td>\n",
              "      <td>Link(s)</td>\n",
              "      <td>NaN</td>\n",
              "      <td>NaN</td>\n",
              "      <td>No</td>\n",
              "      <td>No</td>\n",
              "      <td>Primary goal</td>\n",
              "      <td>NaN</td>\n",
              "      <td>Goal</td>\n",
              "      <td>NaN</td>\n",
              "      <td>NaN</td>\n",
              "      <td>NaN</td>\n",
              "      <td>NaN</td>\n",
              "      <td>NaN</td>\n",
              "      <td>NaN</td>\n",
              "      <td>NaN</td>\n",
              "      <td>NaN</td>\n",
              "      <td>NaN</td>\n",
              "      <td>NaN</td>\n",
              "      <td>NaN</td>\n",
              "      <td>NaN</td>\n",
              "      <td>NaN</td>\n",
              "      <td>NaN</td>\n",
              "      <td>NaN</td>\n",
              "      <td>NaN</td>\n",
              "      <td>NaN</td>\n",
              "      <td>NaN</td>\n",
              "      <td>NaN</td>\n",
              "      <td>NaN</td>\n",
              "      <td>NaN</td>\n",
              "      <td>NaN</td>\n",
              "      <td>NaN</td>\n",
              "      <td>...</td>\n",
              "      <td>NaN</td>\n",
              "      <td>NaN</td>\n",
              "      <td>Civil Rights/Racial Discrimination</td>\n",
              "      <td>NaN</td>\n",
              "      <td>NaN</td>\n",
              "      <td>NaN</td>\n",
              "      <td>NaN</td>\n",
              "      <td>NaN</td>\n",
              "      <td>NaN</td>\n",
              "      <td>NaN</td>\n",
              "      <td>NaN</td>\n",
              "      <td>NaN</td>\n",
              "      <td>NaN</td>\n",
              "      <td>NaN</td>\n",
              "      <td>NaN</td>\n",
              "      <td>NaN</td>\n",
              "      <td>NaN</td>\n",
              "      <td>NaN</td>\n",
              "      <td>NaN</td>\n",
              "      <td>NaN</td>\n",
              "      <td>NaN</td>\n",
              "      <td>NaN</td>\n",
              "      <td>NaN</td>\n",
              "      <td>NaN</td>\n",
              "      <td>NaN</td>\n",
              "      <td>NaN</td>\n",
              "      <td>NaN</td>\n",
              "      <td>NaN</td>\n",
              "      <td>NaN</td>\n",
              "      <td>NaN</td>\n",
              "      <td>NaN</td>\n",
              "      <td>NaN</td>\n",
              "      <td>NaN</td>\n",
              "      <td>Health Care Voter</td>\n",
              "      <td>id=1422199234652050</td>\n",
              "      <td>id=1934191280189700</td>\n",
              "      <td>NaN</td>\n",
              "      <td>NaN</td>\n",
              "      <td>NaN</td>\n",
              "      <td>NaN</td>\n",
              "    </tr>\n",
              "  </tbody>\n",
              "</table>\n",
              "<p>5 rows × 236 columns</p>\n",
              "</div>"
            ],
            "text/plain": [
              "              ad_id  ... PIC_cand12\n",
              "0  1072957549791360  ...        NaN\n",
              "1   260636941890960  ...        NaN\n",
              "2  3351122824910190  ...        NaN\n",
              "3   124221972185005  ...        NaN\n",
              "4  1422199234652050  ...        NaN\n",
              "\n",
              "[5 rows x 236 columns]"
            ]
          },
          "metadata": {},
          "execution_count": 26
        }
      ]
    },
    {
      "cell_type": "code",
      "metadata": {
        "id": "ror6zUd8B47T",
        "colab": {
          "base_uri": "https://localhost:8080/",
          "height": 204
        },
        "outputId": "8bb971dc-895f-4fde-b6d6-7b267b65ea5c"
      },
      "source": [
        "# subset fb_detail dataset\n",
        "fb = fb[[\"AD_TONE\", \"text\"]]\n",
        "\n",
        "fb.columns = [\"Ad_tone\",\"Text\"]\n",
        "fb.head()"
      ],
      "execution_count": 27,
      "outputs": [
        {
          "output_type": "execute_result",
          "data": {
            "text/html": [
              "<div>\n",
              "<style scoped>\n",
              "    .dataframe tbody tr th:only-of-type {\n",
              "        vertical-align: middle;\n",
              "    }\n",
              "\n",
              "    .dataframe tbody tr th {\n",
              "        vertical-align: top;\n",
              "    }\n",
              "\n",
              "    .dataframe thead th {\n",
              "        text-align: right;\n",
              "    }\n",
              "</style>\n",
              "<table border=\"1\" class=\"dataframe\">\n",
              "  <thead>\n",
              "    <tr style=\"text-align: right;\">\n",
              "      <th></th>\n",
              "      <th>Ad_tone</th>\n",
              "      <th>Text</th>\n",
              "    </tr>\n",
              "  </thead>\n",
              "  <tbody>\n",
              "    <tr>\n",
              "      <th>0</th>\n",
              "      <td>Attack</td>\n",
              "      <td>Steve Daines stands with drug and insurance co...</td>\n",
              "    </tr>\n",
              "    <tr>\n",
              "      <th>1</th>\n",
              "      <td>Attack</td>\n",
              "      <td>As farmers, we expect tough times. We always k...</td>\n",
              "    </tr>\n",
              "    <tr>\n",
              "      <th>2</th>\n",
              "      <td>Attack</td>\n",
              "      <td>Will you make a donation to help us get this a...</td>\n",
              "    </tr>\n",
              "    <tr>\n",
              "      <th>3</th>\n",
              "      <td>Attack</td>\n",
              "      <td>Trump brags about all the amazing jobs he\\\\u20...</td>\n",
              "    </tr>\n",
              "    <tr>\n",
              "      <th>4</th>\n",
              "      <td>Attack</td>\n",
              "      <td>Donald Trump and Thom Tillis have allowed the ...</td>\n",
              "    </tr>\n",
              "  </tbody>\n",
              "</table>\n",
              "</div>"
            ],
            "text/plain": [
              "  Ad_tone                                               Text\n",
              "0  Attack  Steve Daines stands with drug and insurance co...\n",
              "1  Attack  As farmers, we expect tough times. We always k...\n",
              "2  Attack  Will you make a donation to help us get this a...\n",
              "3  Attack  Trump brags about all the amazing jobs he\\\\u20...\n",
              "4  Attack  Donald Trump and Thom Tillis have allowed the ..."
            ]
          },
          "metadata": {},
          "execution_count": 27
        }
      ]
    },
    {
      "cell_type": "code",
      "metadata": {
        "colab": {
          "base_uri": "https://localhost:8080/"
        },
        "id": "O7slQj0acD9k",
        "outputId": "f3cd349a-54c4-40cc-bf40-463014a3a6f9"
      },
      "source": [
        "fb.shape"
      ],
      "execution_count": 28,
      "outputs": [
        {
          "output_type": "execute_result",
          "data": {
            "text/plain": [
              "(2076, 2)"
            ]
          },
          "metadata": {},
          "execution_count": 28
        }
      ]
    },
    {
      "cell_type": "markdown",
      "metadata": {
        "id": "72kWNvU3A4BW"
      },
      "source": [
        "### 3. Text Preprocessing"
      ]
    },
    {
      "cell_type": "code",
      "metadata": {
        "colab": {
          "base_uri": "https://localhost:8080/"
        },
        "id": "l8M_dZweDIN2",
        "outputId": "f5bb06d2-47f1-43aa-c13d-c095939eb418"
      },
      "source": [
        "remove_str = r'\\d+|http?\\S+|[^A-Za-z0-9]+'\n",
        "nltk.download('stopwords')\n",
        "nltk.download('wordnet')\n",
        "nltk.download('averaged_perceptron_tagger')\n",
        "nltk.download('punkt')\n",
        "stop_words = set(stopwords.words('english'))\n",
        "\n",
        "# Lemmatizer\n",
        "wl = WordNetLemmatizer()\n",
        " \n",
        "def wordnet_pos(tag):\n",
        "  if tag.startswith('R'):\n",
        "    return wordnet.ADJ\n",
        "  elif tag.startswith('N'):\n",
        "    return wordnet.NOUN\n",
        "  elif tag.startswith('J'):\n",
        "    return wordnet.ADV\n",
        "  elif tag.startswith('V'):\n",
        "    return wordnet.VERB\n",
        "  else:\n",
        "    return wordnet.NOUN\n",
        "\n",
        "def clean_text(text):\n",
        "    text = text.lower()\n",
        "    text = re.sub(remove_str, ' ', text)\n",
        "    text_new = []\n",
        "    words = word_tokenize(text) \n",
        "    for w in words:\n",
        "        if w not in stop_words:\n",
        "          if len(w)>1:\n",
        "            word_pos_tags = nltk.pos_tag(word_tokenize(w))\n",
        "            a=[wl.lemmatize(tag[0], wordnet_pos(tag[1])) for idx, tag in enumerate(word_pos_tags)]\n",
        "            w=\" \".join(a)\n",
        "            text_new.append(w)\n",
        "    return text_new"
      ],
      "execution_count": 29,
      "outputs": [
        {
          "output_type": "stream",
          "text": [
            "[nltk_data] Downloading package stopwords to /root/nltk_data...\n",
            "[nltk_data]   Unzipping corpora/stopwords.zip.\n",
            "[nltk_data] Downloading package wordnet to /root/nltk_data...\n",
            "[nltk_data]   Unzipping corpora/wordnet.zip.\n",
            "[nltk_data] Downloading package averaged_perceptron_tagger to\n",
            "[nltk_data]     /root/nltk_data...\n",
            "[nltk_data]   Unzipping taggers/averaged_perceptron_tagger.zip.\n",
            "[nltk_data] Downloading package punkt to /root/nltk_data...\n",
            "[nltk_data]   Unzipping tokenizers/punkt.zip.\n"
          ],
          "name": "stdout"
        }
      ]
    },
    {
      "cell_type": "code",
      "metadata": {
        "id": "yxpzXcDQBV39"
      },
      "source": [
        "fb.Text = fb.Text.apply(lambda x: clean_text(x))"
      ],
      "execution_count": 30,
      "outputs": []
    },
    {
      "cell_type": "code",
      "metadata": {
        "colab": {
          "base_uri": "https://localhost:8080/"
        },
        "id": "R8C0e9tVBV39",
        "outputId": "2762dbee-a017-4867-d1bc-f73060f97bc3"
      },
      "source": [
        "fb.Text"
      ],
      "execution_count": 31,
      "outputs": [
        {
          "output_type": "execute_result",
          "data": {
            "text/plain": [
              "0       [steve, daines, stand, drug, insurance, compan...\n",
              "1       [farmer, expect, tough, time, always, keep, cl...\n",
              "2       [make, donation, help, u, get, ad, many, peopl...\n",
              "3       [trump, brag, amaze, job, create, reality, man...\n",
              "4       [donald, trump, thom, tillis, allow, cost, lif...\n",
              "                              ...                        \n",
              "2071    [listen, senator, lindsey, graham, say, donald...\n",
              "2072    [tommy, lifelong, republican, fact, never, vot...\n",
              "2073    [mark, wisconsin, vote, exclusively, republica...\n",
              "2074    [covid, case, hospitalization, surge, presiden...\n",
              "2075    [name, deb, wisconsin, vote, campaign, republi...\n",
              "Name: Text, Length: 2076, dtype: object"
            ]
          },
          "metadata": {},
          "execution_count": 31
        }
      ]
    },
    {
      "cell_type": "code",
      "metadata": {
        "id": "MyF-2PsPDV52"
      },
      "source": [
        "# Drop lists with less than four words words in Text column\n",
        "fb = fb[fb['Text'].map(len) >=4]"
      ],
      "execution_count": 32,
      "outputs": []
    },
    {
      "cell_type": "code",
      "metadata": {
        "colab": {
          "base_uri": "https://localhost:8080/",
          "height": 419
        },
        "id": "oQC6tXlS7sn-",
        "outputId": "db627ce1-b96a-4ea5-9564-802940f99439"
      },
      "source": [
        "fb"
      ],
      "execution_count": 33,
      "outputs": [
        {
          "output_type": "execute_result",
          "data": {
            "text/html": [
              "<div>\n",
              "<style scoped>\n",
              "    .dataframe tbody tr th:only-of-type {\n",
              "        vertical-align: middle;\n",
              "    }\n",
              "\n",
              "    .dataframe tbody tr th {\n",
              "        vertical-align: top;\n",
              "    }\n",
              "\n",
              "    .dataframe thead th {\n",
              "        text-align: right;\n",
              "    }\n",
              "</style>\n",
              "<table border=\"1\" class=\"dataframe\">\n",
              "  <thead>\n",
              "    <tr style=\"text-align: right;\">\n",
              "      <th></th>\n",
              "      <th>Ad_tone</th>\n",
              "      <th>Text</th>\n",
              "    </tr>\n",
              "  </thead>\n",
              "  <tbody>\n",
              "    <tr>\n",
              "      <th>0</th>\n",
              "      <td>Attack</td>\n",
              "      <td>[steve, daines, stand, drug, insurance, compan...</td>\n",
              "    </tr>\n",
              "    <tr>\n",
              "      <th>1</th>\n",
              "      <td>Attack</td>\n",
              "      <td>[farmer, expect, tough, time, always, keep, cl...</td>\n",
              "    </tr>\n",
              "    <tr>\n",
              "      <th>2</th>\n",
              "      <td>Attack</td>\n",
              "      <td>[make, donation, help, u, get, ad, many, peopl...</td>\n",
              "    </tr>\n",
              "    <tr>\n",
              "      <th>3</th>\n",
              "      <td>Attack</td>\n",
              "      <td>[trump, brag, amaze, job, create, reality, man...</td>\n",
              "    </tr>\n",
              "    <tr>\n",
              "      <th>4</th>\n",
              "      <td>Attack</td>\n",
              "      <td>[donald, trump, thom, tillis, allow, cost, lif...</td>\n",
              "    </tr>\n",
              "    <tr>\n",
              "      <th>...</th>\n",
              "      <td>...</td>\n",
              "      <td>...</td>\n",
              "    </tr>\n",
              "    <tr>\n",
              "      <th>2071</th>\n",
              "      <td>Contrast</td>\n",
              "      <td>[listen, senator, lindsey, graham, say, donald...</td>\n",
              "    </tr>\n",
              "    <tr>\n",
              "      <th>2072</th>\n",
              "      <td>Contrast</td>\n",
              "      <td>[tommy, lifelong, republican, fact, never, vot...</td>\n",
              "    </tr>\n",
              "    <tr>\n",
              "      <th>2073</th>\n",
              "      <td>Contrast</td>\n",
              "      <td>[mark, wisconsin, vote, exclusively, republica...</td>\n",
              "    </tr>\n",
              "    <tr>\n",
              "      <th>2074</th>\n",
              "      <td>Attack</td>\n",
              "      <td>[covid, case, hospitalization, surge, presiden...</td>\n",
              "    </tr>\n",
              "    <tr>\n",
              "      <th>2075</th>\n",
              "      <td>Contrast</td>\n",
              "      <td>[name, deb, wisconsin, vote, campaign, republi...</td>\n",
              "    </tr>\n",
              "  </tbody>\n",
              "</table>\n",
              "<p>2067 rows × 2 columns</p>\n",
              "</div>"
            ],
            "text/plain": [
              "       Ad_tone                                               Text\n",
              "0       Attack  [steve, daines, stand, drug, insurance, compan...\n",
              "1       Attack  [farmer, expect, tough, time, always, keep, cl...\n",
              "2       Attack  [make, donation, help, u, get, ad, many, peopl...\n",
              "3       Attack  [trump, brag, amaze, job, create, reality, man...\n",
              "4       Attack  [donald, trump, thom, tillis, allow, cost, lif...\n",
              "...        ...                                                ...\n",
              "2071  Contrast  [listen, senator, lindsey, graham, say, donald...\n",
              "2072  Contrast  [tommy, lifelong, republican, fact, never, vot...\n",
              "2073  Contrast  [mark, wisconsin, vote, exclusively, republica...\n",
              "2074    Attack  [covid, case, hospitalization, surge, presiden...\n",
              "2075  Contrast  [name, deb, wisconsin, vote, campaign, republi...\n",
              "\n",
              "[2067 rows x 2 columns]"
            ]
          },
          "metadata": {},
          "execution_count": 33
        }
      ]
    },
    {
      "cell_type": "code",
      "metadata": {
        "colab": {
          "base_uri": "https://localhost:8080/",
          "height": 204
        },
        "id": "1iqPcN-DbzLX",
        "outputId": "ad1184a1-1238-4991-857e-e582dae70a8e"
      },
      "source": [
        "# convert list to sentences\n",
        "fb.Text = fb.Text.apply(lambda x: \" \".join(x))\n",
        "fb.head()"
      ],
      "execution_count": 34,
      "outputs": [
        {
          "output_type": "execute_result",
          "data": {
            "text/html": [
              "<div>\n",
              "<style scoped>\n",
              "    .dataframe tbody tr th:only-of-type {\n",
              "        vertical-align: middle;\n",
              "    }\n",
              "\n",
              "    .dataframe tbody tr th {\n",
              "        vertical-align: top;\n",
              "    }\n",
              "\n",
              "    .dataframe thead th {\n",
              "        text-align: right;\n",
              "    }\n",
              "</style>\n",
              "<table border=\"1\" class=\"dataframe\">\n",
              "  <thead>\n",
              "    <tr style=\"text-align: right;\">\n",
              "      <th></th>\n",
              "      <th>Ad_tone</th>\n",
              "      <th>Text</th>\n",
              "    </tr>\n",
              "  </thead>\n",
              "  <tbody>\n",
              "    <tr>\n",
              "      <th>0</th>\n",
              "      <td>Attack</td>\n",
              "      <td>steve daines stand drug insurance company indu...</td>\n",
              "    </tr>\n",
              "    <tr>\n",
              "      <th>1</th>\n",
              "      <td>Attack</td>\n",
              "      <td>farmer expect tough time always keep climb pus...</td>\n",
              "    </tr>\n",
              "    <tr>\n",
              "      <th>2</th>\n",
              "      <td>Attack</td>\n",
              "      <td>make donation help u get ad many people battle...</td>\n",
              "    </tr>\n",
              "    <tr>\n",
              "      <th>3</th>\n",
              "      <td>Attack</td>\n",
              "      <td>trump brag amaze job create reality many ameri...</td>\n",
              "    </tr>\n",
              "    <tr>\n",
              "      <th>4</th>\n",
              "      <td>Attack</td>\n",
              "      <td>donald trump thom tillis allow cost life save ...</td>\n",
              "    </tr>\n",
              "  </tbody>\n",
              "</table>\n",
              "</div>"
            ],
            "text/plain": [
              "  Ad_tone                                               Text\n",
              "0  Attack  steve daines stand drug insurance company indu...\n",
              "1  Attack  farmer expect tough time always keep climb pus...\n",
              "2  Attack  make donation help u get ad many people battle...\n",
              "3  Attack  trump brag amaze job create reality many ameri...\n",
              "4  Attack  donald trump thom tillis allow cost life save ..."
            ]
          },
          "metadata": {},
          "execution_count": 34
        }
      ]
    },
    {
      "cell_type": "markdown",
      "metadata": {
        "id": "hwX4SE2pb1sT"
      },
      "source": [
        "### 4. Exploratory Data Analysis"
      ]
    },
    {
      "cell_type": "code",
      "metadata": {
        "colab": {
          "base_uri": "https://localhost:8080/"
        },
        "id": "kjMOj1m5HMJJ",
        "outputId": "289c23f4-90ee-4305-9e5a-867d46f982e8"
      },
      "source": [
        "fb.Ad_tone.describe()"
      ],
      "execution_count": 35,
      "outputs": [
        {
          "output_type": "execute_result",
          "data": {
            "text/plain": [
              "count         2067\n",
              "unique           3\n",
              "top       Contrast\n",
              "freq           787\n",
              "Name: Ad_tone, dtype: object"
            ]
          },
          "metadata": {},
          "execution_count": 35
        }
      ]
    },
    {
      "cell_type": "code",
      "metadata": {
        "colab": {
          "base_uri": "https://localhost:8080/",
          "height": 404
        },
        "id": "3gmdTXDnb1sV",
        "outputId": "87265c04-44bb-47d2-d375-7f1fa33d4e78"
      },
      "source": [
        "# Class Distribution of Ad tone\n",
        "x=fb['Ad_tone'].value_counts()\n",
        "print(x)\n",
        "sn.barplot(x.index,x)\n",
        "\n",
        "y= 787+742+538\n",
        "787/y"
      ],
      "execution_count": 36,
      "outputs": [
        {
          "output_type": "stream",
          "text": [
            "Contrast    787\n",
            "Attack      742\n",
            "Promote     538\n",
            "Name: Ad_tone, dtype: int64\n"
          ],
          "name": "stdout"
        },
        {
          "output_type": "stream",
          "text": [
            "/usr/local/lib/python3.7/dist-packages/seaborn/_decorators.py:43: FutureWarning: Pass the following variables as keyword args: x, y. From version 0.12, the only valid positional argument will be `data`, and passing other arguments without an explicit keyword will result in an error or misinterpretation.\n",
            "  FutureWarning\n"
          ],
          "name": "stderr"
        },
        {
          "output_type": "execute_result",
          "data": {
            "text/plain": [
              "0.3807450411223996"
            ]
          },
          "metadata": {},
          "execution_count": 36
        },
        {
          "output_type": "display_data",
          "data": {
            "image/png": "[encoded data removed]",
            "text/plain": [
              "<Figure size 432x288 with 1 Axes>"
            ]
          },
          "metadata": {
            "needs_background": "light"
          }
        }
      ]
    },
    {
      "cell_type": "markdown",
      "metadata": {
        "id": "TavdQ0TAu6-n"
      },
      "source": [
        "### 5. Train and Test data"
      ]
    },
    {
      "cell_type": "code",
      "metadata": {
        "id": "Lobr8FCRcLaF"
      },
      "source": [
        "# split the dataset into training and validation datasets \n",
        "train_x, valid_x, train_y, valid_y = model_selection.train_test_split(fb['Text'], fb['Ad_tone'], test_size=0.2)\n",
        "\n",
        "# label encode Ad_tone (target variable)\n",
        "encoder = preprocessing.LabelEncoder()\n",
        "train_y = encoder.fit_transform(train_y)\n",
        "valid_y = encoder.fit_transform(valid_y)"
      ],
      "execution_count": 37,
      "outputs": []
    },
    {
      "cell_type": "markdown",
      "metadata": {
        "id": "KvtQmSwVpgTc"
      },
      "source": [
        "### 6. Feature Engineering"
      ]
    },
    {
      "cell_type": "markdown",
      "metadata": {
        "id": "4ocFmkjGpqCR"
      },
      "source": [
        "##### 5.1 Count vectors as features"
      ]
    },
    {
      "cell_type": "code",
      "metadata": {
        "id": "9khzvEMJpofJ"
      },
      "source": [
        "# create a count vectorize\n",
        "count_vect = CountVectorizer()\n",
        "count_vect.fit(fb['Text'])\n",
        "\n",
        "xtrain_count =  count_vect.transform(train_x)\n",
        "xvalid_count =  count_vect.transform(valid_x)"
      ],
      "execution_count": 38,
      "outputs": []
    },
    {
      "cell_type": "markdown",
      "metadata": {
        "id": "hBOH1kE-p_uu"
      },
      "source": [
        "##### 5.2 Tf-Idf vectors as features"
      ]
    },
    {
      "cell_type": "code",
      "metadata": {
        "id": "TrMgoa-Dp_uv"
      },
      "source": [
        "# bigram level Tf-Idf \n",
        "tfidf_vect_bigram = TfidfVectorizer(ngram_range=(2,2))\n",
        "tfidf_vect_bigram.fit(fb['Text'])\n",
        "xtrain_tfidf_bigram =  tfidf_vect_bigram.transform(train_x)\n",
        "xvalid_tfidf_bigram =  tfidf_vect_bigram.transform(valid_x)\n",
        "\n",
        "# trigram level Tf-Idf\n",
        "tfidf_vect_ngram = TfidfVectorizer(ngram_range=(3,3))\n",
        "tfidf_vect_ngram.fit(fb['Text'])\n",
        "xtrain_tfidf_ngram =  tfidf_vect_ngram.transform(train_x)\n",
        "xvalid_tfidf_ngram =  tfidf_vect_ngram.transform(valid_x)"
      ],
      "execution_count": 39,
      "outputs": []
    },
    {
      "cell_type": "markdown",
      "metadata": {
        "id": "isKs0Qq4n4bl"
      },
      "source": [
        "##### 5.3 Word2Vec vectors as features"
      ]
    },
    {
      "cell_type": "code",
      "metadata": {
        "colab": {
          "base_uri": "https://localhost:8080/"
        },
        "id": "Vyjw5vMmRJrs",
        "outputId": "de817f8c-ba15-4b13-af33-099466586bb6"
      },
      "source": [
        "# Word2Vec\n",
        "X_train_tok= [nltk.word_tokenize(i) for i in train_x]  \n",
        "X_test_tok= [nltk.word_tokenize(i) for i in valid_x]\n",
        "\n",
        "# bbuild a w2v model\n",
        "class MeanEmbeddingVectorizer(object):\n",
        "    def __init__(self, word2vec):\n",
        "        self.word2vec = word2vec\n",
        "        self.dim = len(next(iter(word2vec.values())))\n",
        "    def fit(self, X, y):\n",
        "        return self\n",
        "    def transform(self, X):\n",
        "        return np.array([\n",
        "            np.mean([self.word2vec[w] for w in words if w in self.word2vec]\n",
        "                    or [np.zeros(self.dim)], axis=0)\n",
        "            for words in X\n",
        "        ])\n",
        "\n",
        "fb[\"text_tok\"]=[nltk.word_tokenize(i) for i in fb['Text']]\n",
        "model = Word2Vec(fb['text_tok'],min_count=1)     \n",
        "modelw = MeanEmbeddingVectorizer(dict(zip(model.wv.index2word, model.wv.syn0)) )\n",
        "model.wv.index2word\n",
        "\n",
        "# converting text to numerical data using Word2Vec\n",
        "X_train_vectors_w2v = modelw.transform(X_train_tok)\n",
        "X_val_vectors_w2v = modelw.transform(X_test_tok)"
      ],
      "execution_count": 40,
      "outputs": [
        {
          "output_type": "stream",
          "text": [
            "/usr/local/lib/python3.7/dist-packages/ipykernel_launcher.py:21: DeprecationWarning: Call to deprecated `syn0` (Attribute will be removed in 4.0.0, use self.wv.vectors instead).\n"
          ],
          "name": "stderr"
        }
      ]
    },
    {
      "cell_type": "markdown",
      "metadata": {
        "id": "3nsKOE29rqqe"
      },
      "source": [
        "### 7. Model Building"
      ]
    },
    {
      "cell_type": "code",
      "metadata": {
        "id": "Cw6zJqRFsCnt"
      },
      "source": [
        "# Creating a function for training the model and returning accuracy score\n",
        "def train_model(classifier, feature_vector_train, label, feature_vector_valid):\n",
        "    classifier.fit(feature_vector_train, label)\n",
        "    predictions = classifier.predict(feature_vector_valid)\n",
        "    return metrics.accuracy_score(predictions, valid_y)"
      ],
      "execution_count": 41,
      "outputs": []
    },
    {
      "cell_type": "markdown",
      "metadata": {
        "id": "mjRAMIV7rqqf"
      },
      "source": [
        "##### 6.1 Logistic Regression"
      ]
    },
    {
      "cell_type": "code",
      "metadata": {
        "colab": {
          "base_uri": "https://localhost:8080/"
        },
        "id": "u-F5JeYrrqqf",
        "outputId": "4acd30b2-5b82-45e0-ab93-43fe05e0f2e3"
      },
      "source": [
        "# Logistic Regression on Count Vectors\n",
        "accuracy1 = train_model(linear_model.LogisticRegression(random_state=123), xtrain_count, train_y, xvalid_count)\n",
        "\n",
        "# Logistic Regression on Bigram Level Tf-Idf vectors\n",
        "accuracy2 = train_model(linear_model.LogisticRegression(random_state=123), xtrain_tfidf_bigram, train_y, xvalid_tfidf_bigram)\n",
        "\n",
        "# Logistic Regression on Trigram Level Tf-Idf vectors\n",
        "accuracy3 = train_model(linear_model.LogisticRegression(random_state=123), xtrain_tfidf_ngram, train_y, xvalid_tfidf_ngram)\n",
        "\n",
        "# Logistic Regression on Word2Vec vecotrs\n",
        "accuracy4 = train_model(linear_model.LogisticRegression(random_state=123), X_train_vectors_w2v, train_y,X_val_vectors_w2v)"
      ],
      "execution_count": 42,
      "outputs": [
        {
          "output_type": "stream",
          "text": [
            "/usr/local/lib/python3.7/dist-packages/sklearn/linear_model/_logistic.py:940: ConvergenceWarning: lbfgs failed to converge (status=1):\n",
            "STOP: TOTAL NO. of ITERATIONS REACHED LIMIT.\n",
            "\n",
            "Increase the number of iterations (max_iter) or scale the data as shown in:\n",
            "    https://scikit-learn.org/stable/modules/preprocessing.html\n",
            "Please also refer to the documentation for alternative solver options:\n",
            "    https://scikit-learn.org/stable/modules/linear_model.html#logistic-regression\n",
            "  extra_warning_msg=_LOGISTIC_SOLVER_CONVERGENCE_MSG)\n",
            "/usr/local/lib/python3.7/dist-packages/sklearn/linear_model/_logistic.py:940: ConvergenceWarning: lbfgs failed to converge (status=1):\n",
            "STOP: TOTAL NO. of ITERATIONS REACHED LIMIT.\n",
            "\n",
            "Increase the number of iterations (max_iter) or scale the data as shown in:\n",
            "    https://scikit-learn.org/stable/modules/preprocessing.html\n",
            "Please also refer to the documentation for alternative solver options:\n",
            "    https://scikit-learn.org/stable/modules/linear_model.html#logistic-regression\n",
            "  extra_warning_msg=_LOGISTIC_SOLVER_CONVERGENCE_MSG)\n"
          ],
          "name": "stderr"
        }
      ]
    },
    {
      "cell_type": "code",
      "metadata": {
        "colab": {
          "base_uri": "https://localhost:8080/"
        },
        "id": "VmD6E1lEPd-U",
        "outputId": "5122e735-5363-4b3d-f13a-48588fd7bfd3"
      },
      "source": [
        "# Accuracy\n",
        "print (\"Logistic Regression, Count Vectors: \", accuracy1)\n",
        "print (\"Logistic Regression, Bigram Vectors: \", accuracy2)\n",
        "print (\"Logistic Regression, N-Gram Vectors: \", accuracy3)\n",
        "print (\"Logistic Regression, Word Embeddings: \", accuracy4)"
      ],
      "execution_count": 43,
      "outputs": [
        {
          "output_type": "stream",
          "text": [
            "Logistic Regression, Count Vectors:  0.717391304347826\n",
            "Logistic Regression, Bigram Vectors:  0.7318840579710145\n",
            "Logistic Regression, N-Gram Vectors:  0.6980676328502415\n",
            "Logistic Regression, Word Embeddings:  0.5797101449275363\n"
          ],
          "name": "stdout"
        }
      ]
    },
    {
      "cell_type": "markdown",
      "metadata": {
        "id": "ZhmiGdbOtHV9"
      },
      "source": [
        "##### 6.2 XGB Boosting Model\n"
      ]
    },
    {
      "cell_type": "code",
      "metadata": {
        "id": "pXm0xyOHtHV9"
      },
      "source": [
        "# XGB Boosting on Count vectors\n",
        "accuracy1 = train_model(xgboost.XGBClassifier(random_state=123), xtrain_count.tocsc(), train_y, xvalid_count.tocsc())\n",
        "\n",
        "# XGB Boosting on Bigram Level TF IDF vectors\n",
        "accuracy2 = train_model(xgboost.XGBClassifier(random_state=123), xtrain_tfidf_bigram, train_y, xvalid_tfidf_bigram)\n",
        "\n",
        "# XGB Boosting on Trigram Level Tf-Idf vectors\n",
        "accuracy3 = train_model(xgboost.XGBClassifier(random_state=123), xtrain_tfidf_ngram, train_y, xvalid_tfidf_ngram)\n",
        "\n",
        "# XGB Boosting on Word2Vec vectors\n",
        "accuracy4 = train_model(xgboost.XGBClassifier(random_state=123), X_train_vectors_w2v, train_y,X_val_vectors_w2v)"
      ],
      "execution_count": 44,
      "outputs": []
    },
    {
      "cell_type": "code",
      "metadata": {
        "colab": {
          "base_uri": "https://localhost:8080/"
        },
        "id": "V8AQa2p3Pm1I",
        "outputId": "6ecac82c-be62-41cd-8990-09b465242316"
      },
      "source": [
        "# Accuracy\n",
        "print (\"XGB, Count Vectors: \", accuracy1)\n",
        "print (\"XGB, Bigram Vectors: \", accuracy2)\n",
        "print (\"XGB, Trigram Vectors: \", accuracy3)\n",
        "print (\"XGB, Word2Vec vectors: \", accuracy4)"
      ],
      "execution_count": 45,
      "outputs": [
        {
          "output_type": "stream",
          "text": [
            "XGB, Count Vectors:  0.7898550724637681\n",
            "XGB, Bigram Vectors:  0.7246376811594203\n",
            "XGB, Trigram Vectors:  0.6328502415458938\n",
            "XGB, Word2Vec vectors:  0.7028985507246377\n"
          ],
          "name": "stdout"
        }
      ]
    },
    {
      "cell_type": "markdown",
      "metadata": {
        "id": "G2Zzae6Is0Os"
      },
      "source": [
        "##### 6.3 Bagging Model (Random Forest)"
      ]
    },
    {
      "cell_type": "code",
      "metadata": {
        "id": "D459D44qs0Ot"
      },
      "source": [
        "# Random Forest on Count cectors\n",
        "accuracy1 = train_model(ensemble.RandomForestClassifier(n_estimators = 200,\n",
        "                                                    criterion = \"entropy\",random_state=123), xtrain_count, train_y, xvalid_count)\n",
        "\n",
        "# Random Forest on Bigram Level TF IDF vectors\n",
        "accuracy2 = train_model(ensemble.RandomForestClassifier(n_estimators = 200,\n",
        "                                                    criterion = \"entropy\",\n",
        "                                                    random_state=123), xtrain_tfidf_bigram, train_y, xvalid_tfidf_bigram)\n",
        "\n",
        "# Random Forest on Trigram Level Tf-Idf Vectors\n",
        "accuracy3 = train_model(ensemble.RandomForestClassifier(n_estimators = 200,\n",
        "                                                    criterion = \"entropy\",\n",
        "                                                    random_state=123), xtrain_tfidf_ngram, train_y, xvalid_tfidf_ngram)\n",
        "\n",
        "# Random Forest on Word2Vec vectors\n",
        "accuracy4 = train_model(ensemble.RandomForestClassifier(n_estimators = 200,\n",
        "                                                    criterion = \"entropy\",\n",
        "                                                    random_state=123), X_train_vectors_w2v, train_y,X_val_vectors_w2v)"
      ],
      "execution_count": 46,
      "outputs": []
    },
    {
      "cell_type": "code",
      "metadata": {
        "colab": {
          "base_uri": "https://localhost:8080/"
        },
        "id": "beUnchwePvdc",
        "outputId": "1707f86b-3f16-43c5-89fa-284fcebdfb45"
      },
      "source": [
        "# Accuracy\n",
        "print (\"Random Forest, Count Vectors: \", accuracy1)\n",
        "print (\"Random Forest, Bigram Vectors: \", accuracy2)\n",
        "print (\"Random Forest, Trigram Vectors: \", accuracy3)\n",
        "print (\"Random Forest, Word2Vec vectors: \", accuracy4)"
      ],
      "execution_count": null,
      "outputs": [
        {
          "output_type": "stream",
          "text": [
            "Random Forest, Count Vectors:  0.8381642512077294\n",
            "Random Forest, Bigram Vectors:  0.7753623188405797\n",
            "Random Forest, Trigram Vectors:  0.6980676328502415\n",
            "Random Forest, Word2Vec vectors:  0.7318840579710145\n"
          ],
          "name": "stdout"
        }
      ]
    },
    {
      "cell_type": "markdown",
      "metadata": {
        "id": "0K-TuM-8l5IP"
      },
      "source": [
        "### 8. Results of Best-Fitting model"
      ]
    },
    {
      "cell_type": "code",
      "metadata": {
        "id": "WiAX79nr9ud_"
      },
      "source": [
        "# Plot the confussion matrix\n",
        "def plot_confussion_matrix(y_test, y_pred):\n",
        "    cm = confusion_matrix(y_test, y_pred)\n",
        "    df_cm = pd.DataFrame(cm, range(cm.shape[0]),\n",
        "                  range(cm.shape[1]))\n",
        "    sn.set(font_scale=1.4) \n",
        "    sn.heatmap(df_cm, annot=True,fmt='.0f',annot_kws={\"size\": 10})\n",
        "    plt.show()\n",
        "    \n",
        "# Creating a function for returning the full results of the model\n",
        "# including classification report and confusion matrix\n",
        "def results(classifier, feature_vector_train, label, feature_vector_valid, is_neural_net=False):\n",
        "    classifier.fit(feature_vector_train, label)\n",
        "    predictions = classifier.predict(feature_vector_valid)\n",
        "    print(metrics.classification_report(valid_y, predictions,  digits=5))\n",
        "    plot_confussion_matrix(valid_y, predictions)"
      ],
      "execution_count": 47,
      "outputs": []
    },
    {
      "cell_type": "code",
      "metadata": {
        "colab": {
          "base_uri": "https://localhost:8080/",
          "height": 443
        },
        "id": "6YmWnbOGmAHw",
        "outputId": "817ce88b-5675-4cac-b2ce-4d9c2055f386"
      },
      "source": [
        "# Results of Random Forest model on Count Vectors\n",
        "results(ensemble.RandomForestClassifier(n_estimators = 200,\n",
        "                                        criterion = \"entropy\",\n",
        "                                        random_state=123), xtrain_count, train_y, xvalid_count)"
      ],
      "execution_count": 48,
      "outputs": [
        {
          "output_type": "stream",
          "text": [
            "              precision    recall  f1-score   support\n",
            "\n",
            "           0    0.84828   0.82550   0.83673       149\n",
            "           1    0.76074   0.78481   0.77259       158\n",
            "           2    0.80189   0.79439   0.79812       107\n",
            "\n",
            "    accuracy                        0.80193       414\n",
            "   macro avg    0.80363   0.80157   0.80248       414\n",
            "weighted avg    0.80288   0.80193   0.80227       414\n",
            "\n"
          ],
          "name": "stdout"
        },
        {
          "output_type": "display_data",
          "data": {
            "image/png": "[encoded data removed]",
            "text/plain": [
              "<Figure size 432x288 with 2 Axes>"
            ]
          },
          "metadata": {}
        }
      ]
    }
  ]
}